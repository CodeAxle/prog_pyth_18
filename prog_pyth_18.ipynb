{
 "cells": [
  {
   "cell_type": "markdown",
   "id": "43ca4821",
   "metadata": {},
   "source": [
    "# 1."
   ]
  },
  {
   "cell_type": "code",
   "execution_count": 5,
   "id": "c1f77a46",
   "metadata": {},
   "outputs": [
    {
     "name": "stdout",
     "output_type": "stream",
     "text": [
      "[1, 2]\n",
      "[1, 2, 123]\n"
     ]
    }
   ],
   "source": [
    "# code:\n",
    "def filter_list(lst):\n",
    "    return [item for item in lst if isinstance(item, int) and item >= 0]\n",
    "\n",
    "# Test the function with the given examples\n",
    "print(filter_list([1, 2, \"a\", \"b\"]))  # Output: [1, 2]\n",
    "print(filter_list([1, 2, \"aasf\", \"1\", \"123\", 123]))  # Output: [1, 2, 123]"
   ]
  },
  {
   "cell_type": "markdown",
   "id": "ae9fb55d",
   "metadata": {},
   "source": [
    "# 2."
   ]
  },
  {
   "cell_type": "code",
   "execution_count": 6,
   "id": "cb2f30ff",
   "metadata": {},
   "outputs": [
    {
     "name": "stdout",
     "output_type": "stream",
     "text": [
      "DLROw OLLEh\n"
     ]
    }
   ],
   "source": [
    "# code:\n",
    "def reverse(s):\n",
    "    return s[::-1].swapcase()\n",
    "\n",
    "# Test the function with the given examples\n",
    "print(reverse(\"Hello World\"))  # Output: \"DLROw OLLEh\""
   ]
  },
  {
   "cell_type": "markdown",
   "id": "ba532b28",
   "metadata": {},
   "source": [
    "# 3."
   ]
  },
  {
   "cell_type": "code",
   "execution_count": 7,
   "id": "750e14be",
   "metadata": {},
   "outputs": [
    {
     "name": "stdout",
     "output_type": "stream",
     "text": [
      "1\n",
      "[2, 3, 4, 5]\n",
      "6\n"
     ]
    }
   ],
   "source": [
    "# code:\n",
    "# Given list\n",
    "writeyourcodehere = [1, 2, 3, 4, 5, 6]\n",
    "\n",
    "# Unpacking using destructuring assignment\n",
    "first, *middle, last = writeyourcodehere\n",
    "\n",
    "# Print the variables\n",
    "print(first)  # Output: 1\n",
    "print(middle)  # Output: [2, 3, 4, 5]\n",
    "print(last)  # Output: 6"
   ]
  },
  {
   "cell_type": "markdown",
   "id": "8188bb2e",
   "metadata": {},
   "source": [
    "# 4."
   ]
  },
  {
   "cell_type": "code",
   "execution_count": 8,
   "id": "d8924e69",
   "metadata": {},
   "outputs": [
    {
     "name": "stdout",
     "output_type": "stream",
     "text": [
      "120\n"
     ]
    }
   ],
   "source": [
    "# code:\n",
    "def factorial(n):\n",
    "    # Base case: factorial of 0 or 1 is 1\n",
    "    if n == 0 or n == 1:\n",
    "        return 1\n",
    "    # Recursive case: factorial of n is n * factorial(n - 1)\n",
    "    else:\n",
    "        return n * factorial(n - 1)\n",
    "\n",
    "# Test the function with the given examples\n",
    "print(factorial(5))  # ➞ 120"
   ]
  },
  {
   "cell_type": "markdown",
   "id": "b1c97d1e",
   "metadata": {},
   "source": [
    "# 5."
   ]
  },
  {
   "cell_type": "code",
   "execution_count": 9,
   "id": "40990cda",
   "metadata": {},
   "outputs": [
    {
     "name": "stdout",
     "output_type": "stream",
     "text": [
      "[3, 2, 4, 4, 1, 1]\n",
      "['b', 'a', 'a', 'a']\n"
     ]
    }
   ],
   "source": [
    "# code:\n",
    "def move_to_end(lst, element):\n",
    "    # Create two lists: one for elements other than the given element,\n",
    "    # and another for the given element\n",
    "    not_element = [x for x in lst if x != element]\n",
    "    only_element = [x for x in lst if x == element]\n",
    "    # Concatenate the two lists, with the list of the given element at the end\n",
    "    return not_element + only_element\n",
    "\n",
    "# Test cases\n",
    "print(move_to_end([1, 3, 2, 4, 4, 1], 1))  # Output: [3, 2, 4, 4, 1, 1]\n",
    "print(move_to_end([\"a\", \"a\", \"a\", \"b\"], \"a\"))  # Output: [\"b\", \"a\", \"a\", \"a\"]"
   ]
  },
  {
   "cell_type": "code",
   "execution_count": null,
   "id": "8de9c915",
   "metadata": {},
   "outputs": [],
   "source": []
  }
 ],
 "metadata": {
  "kernelspec": {
   "display_name": "Python 3 (ipykernel)",
   "language": "python",
   "name": "python3"
  },
  "language_info": {
   "codemirror_mode": {
    "name": "ipython",
    "version": 3
   },
   "file_extension": ".py",
   "mimetype": "text/x-python",
   "name": "python",
   "nbconvert_exporter": "python",
   "pygments_lexer": "ipython3",
   "version": "3.11.5"
  }
 },
 "nbformat": 4,
 "nbformat_minor": 5
}
